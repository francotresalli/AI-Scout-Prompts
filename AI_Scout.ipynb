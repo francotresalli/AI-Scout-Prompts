{
  "nbformat": 4,
  "nbformat_minor": 0,
  "metadata": {
    "colab": {
      "provenance": []
    },
    "kernelspec": {
      "name": "python3",
      "display_name": "Python 3"
    },
    "language_info": {
      "name": "python"
    }
  },
  "cells": [
    {
      "cell_type": "markdown",
      "source": [
        "# AI Scout: Generación de Prompts para Análisis de Jugadores de Fútbol\n",
        "## Introducción\n",
        "Este proyecto busca mejorar el análisis de jugadores de fútbol amateur utilizando modelos de IA para generar informes y representaciones visuales. Se explorarán técnicas de **Fast Prompting** para optimizar los resultados.\n",
        "\n"
      ],
      "metadata": {
        "id": "BhJ2kZhiZlHJ"
      }
    },
    {
      "cell_type": "code",
      "source": [
        "# Instalamos e importamos librerías necesarias\n",
        "!pip install openai pandas matplotlib\n",
        "\n",
        "import openai\n",
        "import pandas as pd\n",
        "import matplotlib.pyplot as plt\n",
        "import os\n",
        "import requests\n",
        "from PIL import Image\n",
        "from io import BytesIO\n",
        "# Configurar la API de OpenAI (usa tu clave API aquí)\n",
        "openai.api_key = \"TU_API_KEY\"\n"
      ],
      "metadata": {
        "id": "rb2sdL_kZpF1"
      },
      "execution_count": null,
      "outputs": []
    },
    {
      "cell_type": "code",
      "source": [
        "# Crear un dataset ficticio de jugadores\n",
        "data = {\n",
        "    \"Nombre\": [\"Juan Pérez\", \"Carlos Gómez\", \"Lucas Martínez\"],\n",
        "    \"Posición\": [\"Delantero\", \"Mediocampista\", \"Defensor\"],\n",
        "    \"Goles\": [12, 5, 1],\n",
        "    \"Asistencias\": [4, 8, 2],\n",
        "    \"Pases Completados\": [75, 85, 90],\n",
        "}\n",
        "\n",
        "df = pd.DataFrame(data)\n",
        "df\n"
      ],
      "metadata": {
        "id": "AfC1yhq6ZspY"
      },
      "execution_count": null,
      "outputs": []
    },
    {
      "cell_type": "code",
      "source": [
        "# Definir un prompt inicial\n",
        "prompt_base = \"\"\"\n",
        "Eres un analista deportivo. Genera un informe detallado sobre el jugador:\n",
        "- Nombre: {nombre}\n",
        "- Posición: {posicion}\n",
        "- Goles: {goles}\n",
        "- Asistencias: {asistencias}\n",
        "- Pases Completados: {pases}\n",
        "\"\"\"\n",
        "\n",
        "# Generar informe para un jugador específico\n",
        "def generar_informe(jugador):\n",
        "    prompt = prompt_base.format(\n",
        "        nombre=jugador[\"Nombre\"],\n",
        "        posicion=jugador[\"Posición\"],\n",
        "        goles=jugador[\"Goles\"],\n",
        "        asistencias=jugador[\"Asistencias\"],\n",
        "        pases=jugador[\"Pases Completados\"]\n",
        "    )\n",
        "\n",
        "    response = openai.ChatCompletion.create(\n",
        "        model=\"gpt-4\",\n",
        "        messages=[{\"role\": \"user\", \"content\": prompt}]\n",
        "    )\n",
        "\n",
        "    return response[\"choices\"][0][\"message\"][\"content\"]\n",
        "\n",
        "# Ejemplo con un jugador\n",
        "print(generar_informe(df.iloc[0]))\n"
      ],
      "metadata": {
        "id": "VJEBWq0DZvPX"
      },
      "execution_count": null,
      "outputs": []
    },
    {
      "cell_type": "code",
      "source": [
        "# Prompt para generación de imágenes con DALL·E\n",
        "prompt_imagen = \"Futbolista {posicion}, uniforme blanco y azul, en acción durante un partido, césped bien iluminado, estadio lleno.\"\n",
        "\n",
        "def generar_imagen(posicion):\n",
        "    response = openai.Image.create(\n",
        "        prompt=prompt_imagen.format(posicion=posicion),\n",
        "        n=1,\n",
        "        size=\"1024x1024\"\n",
        "    )\n",
        "    return response[\"data\"][0][\"url\"]\n",
        "\n",
        "# Generar imagen para un mediocampista\n",
        "url_imagen = generar_imagen(\"Mediocampista\")\n",
        "print(\"Imagen generada:\", url_imagen)\n"
      ],
      "metadata": {
        "id": "4wRhREH6ZzET"
      },
      "execution_count": null,
      "outputs": []
    },
    {
      "cell_type": "code",
      "source": [
        "# Comparar diferentes versiones de prompts\n",
        "prompt1 = \"Genera un informe de rendimiento para un delantero con 10 goles.\"\n",
        "prompt2 = \"Eres un analista. Evalúa a un delantero con 10 goles esta temporada, precisión del 80%, buen juego aéreo.\"\n",
        "\n",
        "def comparar_prompts(prompt):\n",
        "    response = openai.ChatCompletion.create(\n",
        "        model=\"gpt-4\",\n",
        "        messages=[{\"role\": \"user\", \"content\": prompt}]\n",
        "    )\n",
        "    return response[\"choices\"][0][\"message\"][\"content\"]\n",
        "\n",
        "print(\"Prompt 1:\\n\", comparar_prompts(prompt1))\n",
        "print(\"Prompt 2:\\n\", comparar_prompts(prompt2))\n"
      ],
      "metadata": {
        "id": "rzAKT4llZ2fh"
      },
      "execution_count": null,
      "outputs": []
    },
    {
      "cell_type": "markdown",
      "source": [
        "# Análisis de Resultados\n",
        "- Se observa que los prompts más detallados generan reportes más útiles.\n",
        "- Fast Prompting permite optimizar la calidad y precisión de las respuestas.\n",
        "- La combinación de IA para texto e imágenes puede ser una herramienta valiosa en scouting deportivo.\n",
        "\n",
        "# Próximos Pasos\n",
        "- Integrar interfaz web para que los usuarios ingresen datos.\n",
        "- Explorar modelos de IA adicionales para mejorar las predicciones de rendimiento.\n",
        "\n"
      ],
      "metadata": {
        "id": "VI2Mtf5KZ7wu"
      }
    },
    {
      "cell_type": "code",
      "source": [
        "\n",
        "# 1. Generación de Informe de Scouting con OpenAI (ChatGPT)\n",
        "def generar_informe_scouting(prompt):\n",
        "    response = openai.ChatCompletion.create(\n",
        "        model=\"gpt-4\",  # Puedes usar \"gpt-3.5-turbo\" si es necesario\n",
        "        messages=[{\"role\": \"system\", \"content\": \"Eres un analista de scouting especializado en fútbol.\"},\n",
        "                  {\"role\": \"user\", \"content\": prompt}],\n",
        "        api_key=api_key\n",
        "    )\n",
        "    return response['choices'][0]['message']['content']\n",
        "\n",
        "# Ejemplo de prompt optimizado\n",
        "prompt_texto = \"Genera un informe detallado sobre un mediocampista ofensivo de 20 años, con gran visión de juego, pase preciso y capacidad de recuperación.\"\n",
        "informe_scouting = generar_informe_scouting(prompt_texto)\n",
        "print(\"\\n--- Informe de Scouting ---\\n\")\n",
        "print(informe_scouting)\n",
        "\n",
        "# 2. Generación de Imagen de Jugador con NightCafe (Ejemplo con alternativa gratuita)\n",
        "def generar_imagen_nightcafe(prompt):\n",
        "    print(f\"Usa este prompt en NightCafe para generar la imagen del jugador: {prompt}\")\n",
        "    return \"https://creator.nightcafe.studio/\"\n",
        "\n",
        "# Ejemplo de prompt optimizado para imágenes\n",
        "prompt_imagen = \"Mediocampista ofensivo de 20 años, con camiseta azul y blanca, dando un pase preciso en un estadio lleno.\"\n",
        "url_imagen = generar_imagen_nightcafe(prompt_imagen)\n",
        "print(f\"Genera tu imagen aquí: {url_imagen}\")\n",
        "\n",
        "# 3. Comparación de Prompts (Fast Prompting)\n",
        "prompts_variantes = [\n",
        "    \"Joven mediocampista con gran visión de juego, controlando el balón.\",\n",
        "    \"Mediocampista distribuyendo el juego con un pase filtrado en un partido importante.\",\n",
        "    \"Jugador de fútbol con gran inteligencia táctica, organizando el ataque de su equipo desde el mediocampo.\"\n",
        "]\n",
        "\n",
        "for i, p in enumerate(prompts_variantes):\n",
        "    print(f\"\\nVariante {i+1}: {p}\")\n",
        "    generar_imagen_nightcafe(p)\n",
        "\n",
        "# 4. Evaluación de Resultados\n",
        "evaluacion = \"Se observa que los informes generados ofrecen un análisis detallado del jugador y que las imágenes pueden ajustarse según la especificidad de los prompts. Una mayor personalización mejora la calidad del scouting.\"\n",
        "print(\"\\n--- Evaluación de Resultados ---\\n\")\n",
        "print(evaluacion)\n",
        "\n",
        "# 5. Conclusiones\n",
        "conclusiones = \"La optimización de prompts mediante fast prompting mejora la precisión en los informes de scouting y la representación visual de los jugadores, facilitando el análisis de talento de manera automatizada.\"\n",
        "print(\"\\n--- Conclusiones ---\\n\")\n",
        "print(conclusiones)\n"
      ],
      "metadata": {
        "id": "NNMRtoM5Z_pv"
      },
      "execution_count": null,
      "outputs": []
    }
  ]
}